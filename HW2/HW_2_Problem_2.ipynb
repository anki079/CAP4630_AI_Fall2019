{
  "nbformat": 4,
  "nbformat_minor": 0,
  "metadata": {
    "colab": {
      "name": "HW_2_Problem_2.ipynb",
      "provenance": [],
      "include_colab_link": true
    },
    "kernelspec": {
      "name": "python3",
      "display_name": "Python 3"
    },
    "accelerator": "GPU"
  },
  "cells": [
    {
      "cell_type": "markdown",
      "metadata": {
        "id": "view-in-github",
        "colab_type": "text"
      },
      "source": [
        "<a href=\"https://colab.research.google.com/github/anki079/CAP4630_AI_Fall2019/blob/master/HW2/HW_2_Problem_2.ipynb\" target=\"_parent\"><img src=\"https://colab.research.google.com/assets/colab-badge.svg\" alt=\"Open In Colab\"/></a>"
      ]
    },
    {
      "cell_type": "markdown",
      "metadata": {
        "id": "HN9t8xnEljDY",
        "colab_type": "text"
      },
      "source": [
        "Ankita Tripathi\n",
        "\n",
        "CAP4630 Fall 2019\n",
        "\n",
        "Homework 2 Problem 2\n",
        "\n",
        "Note: the solution to this assignment uses code from the colab notebooks provided by Dr Wocjan for the class. This assignment uses code from the following notebook:\n",
        "\n",
        "Classifying MNIST fashion items with dense layers and analyzing model performance: https://colab.research.google.com/drive/1TTO7P5GTmsHhIt_YGqZYyw4KGBCnjqyW"
      ]
    },
    {
      "cell_type": "markdown",
      "metadata": {
        "id": "rt44vyY1xW9b",
        "colab_type": "text"
      },
      "source": [
        "# MNIST fashion data set"
      ]
    },
    {
      "cell_type": "markdown",
      "metadata": {
        "id": "l34GNy7tyNks",
        "colab_type": "text"
      },
      "source": [
        "## Loading the MNIST fashion data set"
      ]
    },
    {
      "cell_type": "code",
      "metadata": {
        "id": "FSJyddqGexl5",
        "colab_type": "code",
        "outputId": "544a5697-5888-4e85-f306-f7470f8515a1",
        "colab": {
          "base_uri": "https://localhost:8080/",
          "height": 199
        }
      },
      "source": [
        "import tensorflow as tf\n",
        "from tensorflow import keras\n",
        "\n",
        "fashion_mnist = keras.datasets.fashion_mnist\n",
        "\n",
        "(train_images, train_labels), (test_images, test_labels) = fashion_mnist.load_data()"
      ],
      "execution_count": 0,
      "outputs": [
        {
          "output_type": "display_data",
          "data": {
            "text/html": [
              "<p style=\"color: red;\">\n",
              "The default version of TensorFlow in Colab will soon switch to TensorFlow 2.x.<br>\n",
              "We recommend you <a href=\"https://www.tensorflow.org/guide/migrate\" target=\"_blank\">upgrade</a> now \n",
              "or ensure your notebook will continue to use TensorFlow 1.x via the <code>%tensorflow_version 1.x</code> magic:\n",
              "<a href=\"https://colab.research.google.com/notebooks/tensorflow_version.ipynb\" target=\"_blank\">more info</a>.</p>\n"
            ],
            "text/plain": [
              "<IPython.core.display.HTML object>"
            ]
          },
          "metadata": {
            "tags": []
          }
        },
        {
          "output_type": "stream",
          "text": [
            "Downloading data from https://storage.googleapis.com/tensorflow/tf-keras-datasets/train-labels-idx1-ubyte.gz\n",
            "32768/29515 [=================================] - 0s 0us/step\n",
            "Downloading data from https://storage.googleapis.com/tensorflow/tf-keras-datasets/train-images-idx3-ubyte.gz\n",
            "26427392/26421880 [==============================] - 0s 0us/step\n",
            "Downloading data from https://storage.googleapis.com/tensorflow/tf-keras-datasets/t10k-labels-idx1-ubyte.gz\n",
            "8192/5148 [===============================================] - 0s 0us/step\n",
            "Downloading data from https://storage.googleapis.com/tensorflow/tf-keras-datasets/t10k-images-idx3-ubyte.gz\n",
            "4423680/4422102 [==============================] - 0s 0us/step\n"
          ],
          "name": "stdout"
        }
      ]
    },
    {
      "cell_type": "markdown",
      "metadata": {
        "id": "XuWVQX3CySIC",
        "colab_type": "text"
      },
      "source": [
        "## Exploring the format of the MNIST fashion data set"
      ]
    },
    {
      "cell_type": "code",
      "metadata": {
        "id": "HKyztEf4fkBg",
        "colab_type": "code",
        "outputId": "b65eeecb-56b5-4d73-9e49-90aac030b80d",
        "colab": {
          "base_uri": "https://localhost:8080/",
          "height": 34
        }
      },
      "source": [
        "train_images.shape"
      ],
      "execution_count": 0,
      "outputs": [
        {
          "output_type": "execute_result",
          "data": {
            "text/plain": [
              "(60000, 28, 28)"
            ]
          },
          "metadata": {
            "tags": []
          },
          "execution_count": 4
        }
      ]
    },
    {
      "cell_type": "code",
      "metadata": {
        "id": "vA81OpzFyjyS",
        "colab_type": "code",
        "outputId": "e943e639-2843-4ae0-8590-fb3612430cb6",
        "colab": {
          "base_uri": "https://localhost:8080/",
          "height": 34
        }
      },
      "source": [
        "len(train_images)"
      ],
      "execution_count": 0,
      "outputs": [
        {
          "output_type": "execute_result",
          "data": {
            "text/plain": [
              "60000"
            ]
          },
          "metadata": {
            "tags": []
          },
          "execution_count": 5
        }
      ]
    },
    {
      "cell_type": "code",
      "metadata": {
        "id": "w85BC1AXxwds",
        "colab_type": "code",
        "outputId": "05069b98-c716-48cf-cb59-2c54083ac4a9",
        "colab": {
          "base_uri": "https://localhost:8080/",
          "height": 34
        }
      },
      "source": [
        "train_images.ndim"
      ],
      "execution_count": 0,
      "outputs": [
        {
          "output_type": "execute_result",
          "data": {
            "text/plain": [
              "3"
            ]
          },
          "metadata": {
            "tags": []
          },
          "execution_count": 4
        }
      ]
    },
    {
      "cell_type": "code",
      "metadata": {
        "id": "1sHFiZBFxnrB",
        "colab_type": "code",
        "outputId": "369c9692-76e3-49c2-f9be-d3e685449671",
        "colab": {
          "base_uri": "https://localhost:8080/",
          "height": 34
        }
      },
      "source": [
        "train_images.dtype"
      ],
      "execution_count": 0,
      "outputs": [
        {
          "output_type": "execute_result",
          "data": {
            "text/plain": [
              "dtype('uint8')"
            ]
          },
          "metadata": {
            "tags": []
          },
          "execution_count": 5
        }
      ]
    },
    {
      "cell_type": "code",
      "metadata": {
        "id": "euQWeEkpyCL5",
        "colab_type": "code",
        "outputId": "b7d0ad7e-3e84-4ea6-ca7f-fb42902f4165",
        "colab": {
          "base_uri": "https://localhost:8080/",
          "height": 34
        }
      },
      "source": [
        "train_labels"
      ],
      "execution_count": 0,
      "outputs": [
        {
          "output_type": "execute_result",
          "data": {
            "text/plain": [
              "array([9, 0, 0, ..., 3, 0, 5], dtype=uint8)"
            ]
          },
          "metadata": {
            "tags": []
          },
          "execution_count": 6
        }
      ]
    },
    {
      "cell_type": "code",
      "metadata": {
        "id": "jqv0aUL-gGU_",
        "colab_type": "code",
        "outputId": "fcd2257c-953c-48e5-be01-5eba119b8afb",
        "colab": {
          "base_uri": "https://localhost:8080/",
          "height": 34
        }
      },
      "source": [
        "len(train_labels)"
      ],
      "execution_count": 0,
      "outputs": [
        {
          "output_type": "execute_result",
          "data": {
            "text/plain": [
              "60000"
            ]
          },
          "metadata": {
            "tags": []
          },
          "execution_count": 7
        }
      ]
    },
    {
      "cell_type": "code",
      "metadata": {
        "id": "aa2r6ZRcO7XV",
        "colab_type": "code",
        "colab": {}
      },
      "source": [
        "class_names = ['T-shirt/top', 'Trouser', 'Pullover', 'Dress', 'Coat',\n",
        "               'Sandal', 'Shirt', 'Sneaker', 'Bag', 'Ankle boot']"
      ],
      "execution_count": 0,
      "outputs": []
    },
    {
      "cell_type": "markdown",
      "metadata": {
        "id": "dmQ2siA7ywPx",
        "colab_type": "text"
      },
      "source": [
        "## Displaying some MNIST fashion items"
      ]
    },
    {
      "cell_type": "code",
      "metadata": {
        "id": "uSj4HIhWzBxl",
        "colab_type": "code",
        "colab": {}
      },
      "source": [
        "import matplotlib.pyplot as plt\n",
        "import numpy as np"
      ],
      "execution_count": 0,
      "outputs": []
    },
    {
      "cell_type": "code",
      "metadata": {
        "id": "1Gdt3obzgQaY",
        "colab_type": "code",
        "outputId": "f35c87e1-fec4-4a27-b33c-246ecf7b2b8a",
        "colab": {
          "base_uri": "https://localhost:8080/",
          "height": 326
        }
      },
      "source": [
        "plt.figure(figsize=(10,10))\n",
        "indices = np.random.choice(np.arange(60000), size=25, replace=False)\n",
        "for i in range(25):\n",
        "    plt.subplot(5,5,i+1)\n",
        "    plt.xticks([])\n",
        "    plt.yticks([])\n",
        "    plt.grid(False)\n",
        "    plt.imshow(train_images[i], cmap=plt.cm.binary)\n",
        "    plt.xlabel(class_names[train_labels[i]])\n",
        "plt.show()"
      ],
      "execution_count": 0,
      "outputs": [
        {
          "output_type": "error",
          "ename": "NameError",
          "evalue": "ignored",
          "traceback": [
            "\u001b[0;31m---------------------------------------------------------------------------\u001b[0m",
            "\u001b[0;31mNameError\u001b[0m                                 Traceback (most recent call last)",
            "\u001b[0;32m<ipython-input-7-0c55ba7d5d3f>\u001b[0m in \u001b[0;36m<module>\u001b[0;34m()\u001b[0m\n\u001b[1;32m      7\u001b[0m     \u001b[0mplt\u001b[0m\u001b[0;34m.\u001b[0m\u001b[0mgrid\u001b[0m\u001b[0;34m(\u001b[0m\u001b[0;32mFalse\u001b[0m\u001b[0;34m)\u001b[0m\u001b[0;34m\u001b[0m\u001b[0;34m\u001b[0m\u001b[0m\n\u001b[1;32m      8\u001b[0m     \u001b[0mplt\u001b[0m\u001b[0;34m.\u001b[0m\u001b[0mimshow\u001b[0m\u001b[0;34m(\u001b[0m\u001b[0mtrain_images\u001b[0m\u001b[0;34m[\u001b[0m\u001b[0mi\u001b[0m\u001b[0;34m]\u001b[0m\u001b[0;34m,\u001b[0m \u001b[0mcmap\u001b[0m\u001b[0;34m=\u001b[0m\u001b[0mplt\u001b[0m\u001b[0;34m.\u001b[0m\u001b[0mcm\u001b[0m\u001b[0;34m.\u001b[0m\u001b[0mbinary\u001b[0m\u001b[0;34m)\u001b[0m\u001b[0;34m\u001b[0m\u001b[0;34m\u001b[0m\u001b[0m\n\u001b[0;32m----> 9\u001b[0;31m     \u001b[0mplt\u001b[0m\u001b[0;34m.\u001b[0m\u001b[0mxlabel\u001b[0m\u001b[0;34m(\u001b[0m\u001b[0mclass_names\u001b[0m\u001b[0;34m[\u001b[0m\u001b[0mtrain_labels\u001b[0m\u001b[0;34m[\u001b[0m\u001b[0mi\u001b[0m\u001b[0;34m]\u001b[0m\u001b[0;34m]\u001b[0m\u001b[0;34m)\u001b[0m\u001b[0;34m\u001b[0m\u001b[0;34m\u001b[0m\u001b[0m\n\u001b[0m\u001b[1;32m     10\u001b[0m \u001b[0mplt\u001b[0m\u001b[0;34m.\u001b[0m\u001b[0mshow\u001b[0m\u001b[0;34m(\u001b[0m\u001b[0;34m)\u001b[0m\u001b[0;34m\u001b[0m\u001b[0;34m\u001b[0m\u001b[0m\n",
            "\u001b[0;31mNameError\u001b[0m: name 'class_names' is not defined"
          ]
        },
        {
          "output_type": "display_data",
          "data": {
            "image/png": "[encoded data removed]",
            "text/plain": [
              "<Figure size 720x720 with 1 Axes>"
            ]
          },
          "metadata": {
            "tags": []
          }
        }
      ]
    },
    {
      "cell_type": "markdown",
      "metadata": {
        "id": "Rcch4U30N53_",
        "colab_type": "text"
      },
      "source": [
        "The data must be preprocessed before training the network. If you inspect the first image in the training set, you will see that the pixel values fall in the range of 0 to 255:"
      ]
    },
    {
      "cell_type": "code",
      "metadata": {
        "id": "luvWbddTMtTX",
        "colab_type": "code",
        "outputId": "f95db103-e1b3-4b8b-b62a-1e69b9045fcf",
        "colab": {
          "base_uri": "https://localhost:8080/",
          "height": 265
        }
      },
      "source": [
        "plt.figure()\n",
        "plt.imshow(train_images[0])\n",
        "plt.colorbar()\n",
        "plt.grid(False)\n",
        "plt.show()"
      ],
      "execution_count": 0,
      "outputs": [
        {
          "output_type": "display_data",
          "data": {
            "image/png": "[encoded data removed]",
            "text/plain": [
              "<Figure size 432x288 with 2 Axes>"
            ]
          },
          "metadata": {
            "tags": []
          }
        }
      ]
    },
    {
      "cell_type": "markdown",
      "metadata": {
        "id": "JC5iBT_0OCSl",
        "colab_type": "text"
      },
      "source": [
        "## Preprocessing the data"
      ]
    },
    {
      "cell_type": "code",
      "metadata": {
        "id": "inugSPsZNytV",
        "colab_type": "code",
        "colab": {}
      },
      "source": [
        "train_images = train_images / 255.0\n",
        "test_images = test_images / 255.0"
      ],
      "execution_count": 0,
      "outputs": []
    },
    {
      "cell_type": "markdown",
      "metadata": {
        "colab_type": "text",
        "id": "BTwjM2d2vd7E"
      },
      "source": [
        "# Pretty good model"
      ]
    },
    {
      "cell_type": "code",
      "metadata": {
        "colab_type": "code",
        "outputId": "902cdb73-10d1-4ff2-8b1a-374b4ef046c5",
        "id": "C8eZhKJuvd7F",
        "colab": {
          "base_uri": "https://localhost:8080/",
          "height": 714
        }
      },
      "source": [
        "# set up the layers\n",
        "\n",
        "model = keras.Sequential([\n",
        "    keras.layers.Flatten(input_shape=(28, 28)),\n",
        "    keras.layers.Dense(512, activation=tf.nn.relu),\n",
        "    keras.layers.Dense(128, activation=tf.nn.relu),\n",
        "    keras.layers.Dense(64, activation=tf.nn.relu),\n",
        "    keras.layers.Dense(64, activation=tf.nn.relu),\n",
        "    keras.layers.Dense(10, activation=tf.nn.softmax)\n",
        "])\n",
        "\n",
        "# compile the model\n",
        "\n",
        "model.compile(optimizer='adam',\n",
        "             loss='sparse_categorical_crossentropy',\n",
        "             metrics=['accuracy'])\n",
        "\n",
        "# train the model\n",
        "epochs = 20\n",
        "history = model.fit(train_images, \n",
        "                      train_labels, \n",
        "                      epochs=epochs,batch_size = 5000, \n",
        "                      validation_data=(test_images, test_labels))"
      ],
      "execution_count": 0,
      "outputs": [
        {
          "output_type": "stream",
          "text": [
            "Train on 60000 samples, validate on 10000 samples\n",
            "Epoch 1/20\n",
            "60000/60000 [==============================] - 1s 19us/sample - loss: 1.4987 - acc: 0.5265 - val_loss: 0.8609 - val_acc: 0.6894\n",
            "Epoch 2/20\n",
            "60000/60000 [==============================] - 0s 6us/sample - loss: 0.7113 - acc: 0.7445 - val_loss: 0.6508 - val_acc: 0.7657\n",
            "Epoch 3/20\n",
            "60000/60000 [==============================] - 0s 6us/sample - loss: 0.5661 - acc: 0.8036 - val_loss: 0.5508 - val_acc: 0.8107\n",
            "Epoch 4/20\n",
            "60000/60000 [==============================] - 0s 6us/sample - loss: 0.4924 - acc: 0.8287 - val_loss: 0.4942 - val_acc: 0.8266\n",
            "Epoch 5/20\n",
            "60000/60000 [==============================] - 0s 6us/sample - loss: 0.4626 - acc: 0.8379 - val_loss: 0.4736 - val_acc: 0.8307\n",
            "Epoch 6/20\n",
            "60000/60000 [==============================] - 0s 6us/sample - loss: 0.4290 - acc: 0.8495 - val_loss: 0.4484 - val_acc: 0.8394\n",
            "Epoch 7/20\n",
            "60000/60000 [==============================] - 0s 6us/sample - loss: 0.4031 - acc: 0.8583 - val_loss: 0.4290 - val_acc: 0.8491\n",
            "Epoch 8/20\n",
            "60000/60000 [==============================] - 0s 6us/sample - loss: 0.3885 - acc: 0.8627 - val_loss: 0.4172 - val_acc: 0.8544\n",
            "Epoch 9/20\n",
            "60000/60000 [==============================] - 0s 6us/sample - loss: 0.3720 - acc: 0.8689 - val_loss: 0.4065 - val_acc: 0.8549\n",
            "Epoch 10/20\n",
            "60000/60000 [==============================] - 0s 6us/sample - loss: 0.3608 - acc: 0.8719 - val_loss: 0.3939 - val_acc: 0.8594\n",
            "Epoch 11/20\n",
            "60000/60000 [==============================] - 0s 6us/sample - loss: 0.3535 - acc: 0.8741 - val_loss: 0.3910 - val_acc: 0.8624\n",
            "Epoch 12/20\n",
            "60000/60000 [==============================] - 0s 6us/sample - loss: 0.3411 - acc: 0.8780 - val_loss: 0.3921 - val_acc: 0.8583\n",
            "Epoch 13/20\n",
            "60000/60000 [==============================] - 0s 6us/sample - loss: 0.3370 - acc: 0.8798 - val_loss: 0.3794 - val_acc: 0.8661\n",
            "Epoch 14/20\n",
            "60000/60000 [==============================] - 0s 6us/sample - loss: 0.3266 - acc: 0.8831 - val_loss: 0.3685 - val_acc: 0.8686\n",
            "Epoch 15/20\n",
            "60000/60000 [==============================] - 0s 6us/sample - loss: 0.3170 - acc: 0.8866 - val_loss: 0.3614 - val_acc: 0.8707\n",
            "Epoch 16/20\n",
            "60000/60000 [==============================] - 0s 6us/sample - loss: 0.3074 - acc: 0.8892 - val_loss: 0.3621 - val_acc: 0.8702\n",
            "Epoch 17/20\n",
            "60000/60000 [==============================] - 0s 6us/sample - loss: 0.3072 - acc: 0.8891 - val_loss: 0.3576 - val_acc: 0.8728\n",
            "Epoch 18/20\n",
            "60000/60000 [==============================] - 0s 6us/sample - loss: 0.3027 - acc: 0.8905 - val_loss: 0.3650 - val_acc: 0.8683\n",
            "Epoch 19/20\n",
            "60000/60000 [==============================] - 0s 6us/sample - loss: 0.2962 - acc: 0.8938 - val_loss: 0.3762 - val_acc: 0.8627\n",
            "Epoch 20/20\n",
            "60000/60000 [==============================] - 0s 6us/sample - loss: 0.2923 - acc: 0.8940 - val_loss: 0.3423 - val_acc: 0.8766\n"
          ],
          "name": "stdout"
        }
      ]
    },
    {
      "cell_type": "markdown",
      "metadata": {
        "colab_type": "text",
        "id": "g3FcKdx9vd7H"
      },
      "source": [
        "## Evaluate accuracy"
      ]
    },
    {
      "cell_type": "code",
      "metadata": {
        "colab_type": "code",
        "outputId": "2c36221b-9b81-43d4-b32b-f63fd81eda50",
        "id": "uNJU8lZlvd7H",
        "colab": {
          "base_uri": "https://localhost:8080/",
          "height": 51
        }
      },
      "source": [
        "test_loss, test_acc = model.evaluate(test_images, test_labels)\n",
        "\n",
        "print('Test accuracy:', test_acc)"
      ],
      "execution_count": 0,
      "outputs": [
        {
          "output_type": "stream",
          "text": [
            "10000/10000 [==============================] - 1s 66us/sample - loss: 0.3423 - acc: 0.8766\n",
            "Test accuracy: 0.8766\n"
          ],
          "name": "stdout"
        }
      ]
    },
    {
      "cell_type": "markdown",
      "metadata": {
        "colab_type": "text",
        "id": "bvRzbz1ivd7K"
      },
      "source": [
        "## Training/test loss/accuracy during training"
      ]
    },
    {
      "cell_type": "code",
      "metadata": {
        "colab_type": "code",
        "id": "WMUHVX6svd7K",
        "colab": {}
      },
      "source": [
        "history_dict = history.history\n",
        "loss_values = history_dict['loss']\n",
        "test_loss_values = history_dict['val_loss']\n",
        "epochs_range = range(1, epochs+1)"
      ],
      "execution_count": 0,
      "outputs": []
    },
    {
      "cell_type": "code",
      "metadata": {
        "colab_type": "code",
        "outputId": "83824efb-3dcc-444e-d664-7a1172ec0c40",
        "id": "SbAwhXETvd7M",
        "colab": {
          "base_uri": "https://localhost:8080/",
          "height": 295
        }
      },
      "source": [
        "plt.plot(epochs_range, loss_values, 'b', label='Training loss')\n",
        "plt.plot(epochs_range, test_loss_values, 'r', label='Test loss')\n",
        "plt.title('Training and test loss')\n",
        "plt.xlabel('Epochs')\n",
        "plt.ylabel('Loss')\n",
        "plt.legend()\n",
        "plt.show()"
      ],
      "execution_count": 0,
      "outputs": [
        {
          "output_type": "display_data",
          "data": {
            "image/png": "[encoded data removed]",
            "text/plain": [
              "<Figure size 432x288 with 1 Axes>"
            ]
          },
          "metadata": {
            "tags": []
          }
        }
      ]
    },
    {
      "cell_type": "code",
      "metadata": {
        "colab_type": "code",
        "id": "fZWNIRRhvd7O",
        "colab": {}
      },
      "source": [
        "acc_values = history_dict['acc']\n",
        "test_acc_values = history_dict['val_acc']"
      ],
      "execution_count": 0,
      "outputs": []
    },
    {
      "cell_type": "code",
      "metadata": {
        "colab_type": "code",
        "outputId": "836d66d1-6667-430b-d018-19a7276e2b95",
        "id": "1Y257pNSvd7P",
        "colab": {
          "base_uri": "https://localhost:8080/",
          "height": 295
        }
      },
      "source": [
        "plt.plot(epochs_range, acc_values, 'b', label='Training accuracy')\n",
        "plt.plot(epochs_range, test_acc_values, 'r', label='Test accuracy')\n",
        "plt.title('Training and test accuracy')\n",
        "plt.xlabel('Epochs')\n",
        "plt.ylabel('Accuracy')\n",
        "plt.legend()\n",
        "plt.show()"
      ],
      "execution_count": 0,
      "outputs": [
        {
          "output_type": "display_data",
          "data": {
            "image/png": "[encoded data removed]",
            "text/plain": [
              "<Figure size 432x288 with 1 Axes>"
            ]
          },
          "metadata": {
            "tags": []
          }
        }
      ]
    },
    {
      "cell_type": "markdown",
      "metadata": {
        "id": "OA975wHjOJI-",
        "colab_type": "text"
      },
      "source": [
        "# Overfitting model"
      ]
    },
    {
      "cell_type": "code",
      "metadata": {
        "id": "ZX6SGTpMOIKN",
        "colab_type": "code",
        "outputId": "3b06518c-0001-4e8b-a893-5882503abce4",
        "colab": {
          "base_uri": "https://localhost:8080/",
          "height": 544
        }
      },
      "source": [
        "# set up the layers\n",
        "\n",
        "model = keras.Sequential([\n",
        "    keras.layers.Flatten(input_shape=(28, 28)),\n",
        "    keras.layers.Dense(512, activation=tf.nn.relu),\n",
        "    keras.layers.Dense(128, activation=tf.nn.relu),\n",
        "    keras.layers.Dense(32, activation=tf.nn.relu),\n",
        "    keras.layers.Dense(10, activation=tf.nn.softmax)\n",
        "])\n",
        "\n",
        "# compile the model\n",
        "\n",
        "model.compile(optimizer='adam',\n",
        "             loss='sparse_categorical_crossentropy',\n",
        "             metrics=['accuracy'])\n",
        "\n",
        "# train the model\n",
        "epochs = 15\n",
        "history = model.fit(train_images, \n",
        "                      train_labels, \n",
        "                      epochs=epochs,batch_size = 1000,  \n",
        "                      validation_data=(test_images, test_labels))"
      ],
      "execution_count": 0,
      "outputs": [
        {
          "output_type": "stream",
          "text": [
            "Train on 60000 samples, validate on 10000 samples\n",
            "Epoch 1/15\n",
            "60000/60000 [==============================] - 1s 24us/sample - loss: 0.7595 - acc: 0.7469 - val_loss: 0.5076 - val_acc: 0.8256\n",
            "Epoch 2/15\n",
            "60000/60000 [==============================] - 0s 8us/sample - loss: 0.4391 - acc: 0.8469 - val_loss: 0.4389 - val_acc: 0.8441\n",
            "Epoch 3/15\n",
            "60000/60000 [==============================] - 0s 8us/sample - loss: 0.3991 - acc: 0.8594 - val_loss: 0.4100 - val_acc: 0.8572\n",
            "Epoch 4/15\n",
            "60000/60000 [==============================] - 0s 8us/sample - loss: 0.3582 - acc: 0.8718 - val_loss: 0.3891 - val_acc: 0.8632\n",
            "Epoch 5/15\n",
            "60000/60000 [==============================] - 0s 8us/sample - loss: 0.3369 - acc: 0.8786 - val_loss: 0.3793 - val_acc: 0.8677\n",
            "Epoch 6/15\n",
            "60000/60000 [==============================] - 0s 8us/sample - loss: 0.3185 - acc: 0.8842 - val_loss: 0.3727 - val_acc: 0.8676\n",
            "Epoch 7/15\n",
            "60000/60000 [==============================] - 0s 7us/sample - loss: 0.3076 - acc: 0.8880 - val_loss: 0.3467 - val_acc: 0.8794\n",
            "Epoch 8/15\n",
            "60000/60000 [==============================] - 0s 8us/sample - loss: 0.2919 - acc: 0.8931 - val_loss: 0.3567 - val_acc: 0.8721\n",
            "Epoch 9/15\n",
            "60000/60000 [==============================] - 0s 8us/sample - loss: 0.2843 - acc: 0.8963 - val_loss: 0.3582 - val_acc: 0.8709\n",
            "Epoch 10/15\n",
            "60000/60000 [==============================] - 0s 7us/sample - loss: 0.2681 - acc: 0.9021 - val_loss: 0.3377 - val_acc: 0.8802\n",
            "Epoch 11/15\n",
            "60000/60000 [==============================] - 0s 8us/sample - loss: 0.2543 - acc: 0.9064 - val_loss: 0.3316 - val_acc: 0.8844\n",
            "Epoch 12/15\n",
            "60000/60000 [==============================] - 0s 8us/sample - loss: 0.2480 - acc: 0.9093 - val_loss: 0.3355 - val_acc: 0.8817\n",
            "Epoch 13/15\n",
            "60000/60000 [==============================] - 0s 8us/sample - loss: 0.2435 - acc: 0.9104 - val_loss: 0.3328 - val_acc: 0.8817\n",
            "Epoch 14/15\n",
            "60000/60000 [==============================] - 0s 8us/sample - loss: 0.2317 - acc: 0.9149 - val_loss: 0.3252 - val_acc: 0.8879\n",
            "Epoch 15/15\n",
            "60000/60000 [==============================] - 0s 8us/sample - loss: 0.2272 - acc: 0.9168 - val_loss: 0.3255 - val_acc: 0.8840\n"
          ],
          "name": "stdout"
        }
      ]
    },
    {
      "cell_type": "markdown",
      "metadata": {
        "id": "mORb9IwPP7oE",
        "colab_type": "text"
      },
      "source": [
        "## Evaluate accuracy"
      ]
    },
    {
      "cell_type": "code",
      "metadata": {
        "id": "rlKIF6ijOkiE",
        "colab_type": "code",
        "outputId": "9adbc487-7f33-4c5e-87af-5463e5fb2d9e",
        "colab": {
          "base_uri": "https://localhost:8080/",
          "height": 51
        }
      },
      "source": [
        "test_loss, test_acc = model.evaluate(test_images, test_labels)\n",
        "\n",
        "print('Test accuracy:', test_acc)"
      ],
      "execution_count": 0,
      "outputs": [
        {
          "output_type": "stream",
          "text": [
            "10000/10000 [==============================] - 1s 69us/sample - loss: 0.3255 - acc: 0.8840\n",
            "Test accuracy: 0.884\n"
          ],
          "name": "stdout"
        }
      ]
    },
    {
      "cell_type": "markdown",
      "metadata": {
        "id": "GqbGdV6oXEyP",
        "colab_type": "text"
      },
      "source": [
        "## Training/test loss/accuracy during training"
      ]
    },
    {
      "cell_type": "code",
      "metadata": {
        "id": "3b5OCE5YTrEc",
        "colab_type": "code",
        "colab": {}
      },
      "source": [
        "history_dict = history.history\n",
        "loss_values = history_dict['loss']\n",
        "test_loss_values = history_dict['val_loss']\n",
        "epochs_range = range(1, epochs+1)"
      ],
      "execution_count": 0,
      "outputs": []
    },
    {
      "cell_type": "code",
      "metadata": {
        "id": "y98AOblYT3Pk",
        "colab_type": "code",
        "outputId": "53b01454-068a-48f7-f6bb-77a89ef47bcf",
        "colab": {
          "base_uri": "https://localhost:8080/",
          "height": 295
        }
      },
      "source": [
        "plt.plot(epochs_range, loss_values, 'b', label='Training loss')\n",
        "plt.plot(epochs_range, test_loss_values, 'r', label='Test loss')\n",
        "plt.title('Training and test loss')\n",
        "plt.xlabel('Epochs')\n",
        "plt.ylabel('Loss')\n",
        "plt.legend()\n",
        "plt.show()"
      ],
      "execution_count": 0,
      "outputs": [
        {
          "output_type": "display_data",
          "data": {
            "image/png": "[encoded data removed]",
            "text/plain": [
              "<Figure size 432x288 with 1 Axes>"
            ]
          },
          "metadata": {
            "tags": []
          }
        }
      ]
    },
    {
      "cell_type": "code",
      "metadata": {
        "id": "790AkDaTWuZU",
        "colab_type": "code",
        "colab": {}
      },
      "source": [
        "acc_values = history_dict['acc']\n",
        "test_acc_values = history_dict['val_acc']"
      ],
      "execution_count": 0,
      "outputs": []
    },
    {
      "cell_type": "code",
      "metadata": {
        "id": "7BkIfPQ4W39E",
        "colab_type": "code",
        "outputId": "80239cab-455e-467d-ab18-f112f5b8f6ea",
        "colab": {
          "base_uri": "https://localhost:8080/",
          "height": 295
        }
      },
      "source": [
        "plt.plot(epochs_range, acc_values, 'b', label='Training accuracy')\n",
        "plt.plot(epochs_range, test_acc_values, 'r', label='Test accuracy')\n",
        "plt.title('Training and test accuracy')\n",
        "plt.xlabel('Epochs')\n",
        "plt.ylabel('Accuracy')\n",
        "plt.legend()\n",
        "plt.show()"
      ],
      "execution_count": 0,
      "outputs": [
        {
          "output_type": "display_data",
          "data": {
            "image/png": "[encoded data removed]",
            "text/plain": [
              "<Figure size 432x288 with 1 Axes>"
            ]
          },
          "metadata": {
            "tags": []
          }
        }
      ]
    },
    {
      "cell_type": "markdown",
      "metadata": {
        "colab_type": "text",
        "id": "Q6xajMmBvVnY"
      },
      "source": [
        "# Underfitting model"
      ]
    },
    {
      "cell_type": "code",
      "metadata": {
        "colab_type": "code",
        "outputId": "1942ff96-b3ad-4a7a-ecfc-56ef748eb5a7",
        "id": "xHUeepQ_vVna",
        "colab": {
          "base_uri": "https://localhost:8080/",
          "height": 136
        }
      },
      "source": [
        "# set up the layers\n",
        "\n",
        "model = keras.Sequential([\n",
        "    keras.layers.Flatten(input_shape=(28, 28)),\n",
        "    keras.layers.Dense(8, activation=tf.nn.relu),\n",
        "    keras.layers.Dense(10, activation=tf.nn.softmax)\n",
        "])\n",
        "\n",
        "# compile the model\n",
        "\n",
        "model.compile(optimizer='adam',\n",
        "             loss='sparse_categorical_crossentropy',\n",
        "             metrics=['accuracy'])\n",
        "\n",
        "# train the model\n",
        "epochs = 3\n",
        "history = model.fit(train_images, \n",
        "                      train_labels, \n",
        "                      epochs=epochs, batch_size = 1000,  \n",
        "                      validation_data=(test_images, test_labels))"
      ],
      "execution_count": 0,
      "outputs": [
        {
          "output_type": "stream",
          "text": [
            "Train on 60000 samples, validate on 10000 samples\n",
            "Epoch 1/3\n",
            "60000/60000 [==============================] - 1s 10us/sample - loss: 1.8739 - acc: 0.3746 - val_loss: 1.5454 - val_acc: 0.5605\n",
            "Epoch 2/3\n",
            "60000/60000 [==============================] - 0s 6us/sample - loss: 1.2978 - acc: 0.6363 - val_loss: 1.0850 - val_acc: 0.6705\n",
            "Epoch 3/3\n",
            "60000/60000 [==============================] - 0s 6us/sample - loss: 0.9322 - acc: 0.7017 - val_loss: 0.8306 - val_acc: 0.7184\n"
          ],
          "name": "stdout"
        }
      ]
    },
    {
      "cell_type": "markdown",
      "metadata": {
        "colab_type": "text",
        "id": "vcv2HO0RvVnd"
      },
      "source": [
        "## Evaluate accuracy"
      ]
    },
    {
      "cell_type": "code",
      "metadata": {
        "colab_type": "code",
        "outputId": "15d6327f-0532-4e5c-d5f9-42171b066492",
        "id": "zFYd0kNOvVne",
        "colab": {
          "base_uri": "https://localhost:8080/",
          "height": 51
        }
      },
      "source": [
        "test_loss, test_acc = model.evaluate(test_images, test_labels)\n",
        "\n",
        "print('Test accuracy:', test_acc)"
      ],
      "execution_count": 0,
      "outputs": [
        {
          "output_type": "stream",
          "text": [
            "10000/10000 [==============================] - 0s 49us/sample - loss: 0.8306 - acc: 0.7184\n",
            "Test accuracy: 0.7184\n"
          ],
          "name": "stdout"
        }
      ]
    },
    {
      "cell_type": "markdown",
      "metadata": {
        "colab_type": "text",
        "id": "cOfoxb0uvVni"
      },
      "source": [
        "## Training/test loss/accuracy during training"
      ]
    },
    {
      "cell_type": "code",
      "metadata": {
        "colab_type": "code",
        "id": "p__LkAmovVni",
        "colab": {}
      },
      "source": [
        "history_dict = history.history\n",
        "loss_values = history_dict['loss']\n",
        "test_loss_values = history_dict['val_loss']\n",
        "epochs_range = range(1, epochs+1)"
      ],
      "execution_count": 0,
      "outputs": []
    },
    {
      "cell_type": "code",
      "metadata": {
        "colab_type": "code",
        "outputId": "c258fdc7-6533-40f1-abc9-9f927accc9af",
        "id": "2A7qa9udvVnk",
        "colab": {
          "base_uri": "https://localhost:8080/",
          "height": 295
        }
      },
      "source": [
        "plt.plot(epochs_range, loss_values, 'b', label='Training loss')\n",
        "plt.plot(epochs_range, test_loss_values, 'r', label='Test loss')\n",
        "plt.title('Training and test loss')\n",
        "plt.xlabel('Epochs')\n",
        "plt.ylabel('Loss')\n",
        "plt.legend()\n",
        "plt.show()"
      ],
      "execution_count": 0,
      "outputs": [
        {
          "output_type": "display_data",
          "data": {
            "image/png": "[encoded data removed]",
            "text/plain": [
              "<Figure size 432x288 with 1 Axes>"
            ]
          },
          "metadata": {
            "tags": []
          }
        }
      ]
    },
    {
      "cell_type": "code",
      "metadata": {
        "colab_type": "code",
        "id": "htLkSlwNvVnn",
        "colab": {}
      },
      "source": [
        "acc_values = history_dict['acc']\n",
        "test_acc_values = history_dict['val_acc']"
      ],
      "execution_count": 0,
      "outputs": []
    },
    {
      "cell_type": "code",
      "metadata": {
        "colab_type": "code",
        "outputId": "7f31f358-efc5-413c-b069-2d7deaae5d69",
        "id": "Z-XtfBQcvVno",
        "colab": {
          "base_uri": "https://localhost:8080/",
          "height": 295
        }
      },
      "source": [
        "plt.plot(epochs_range, acc_values, 'b', label='Training accuracy')\n",
        "plt.plot(epochs_range, test_acc_values, 'r', label='Test accuracy')\n",
        "plt.title('Training and test accuracy')\n",
        "plt.xlabel('Epochs')\n",
        "plt.ylabel('Accuracy')\n",
        "plt.legend()\n",
        "plt.show()"
      ],
      "execution_count": 0,
      "outputs": [
        {
          "output_type": "display_data",
          "data": {
            "image/png": "[encoded data removed]",
            "text/plain": [
              "<Figure size 432x288 with 1 Axes>"
            ]
          },
          "metadata": {
            "tags": []
          }
        }
      ]
    }
  ]
}